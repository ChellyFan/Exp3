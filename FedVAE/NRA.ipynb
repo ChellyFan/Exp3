{
 "cells": [
  {
   "cell_type": "markdown",
   "metadata": {},
   "source": [
    "# Imports"
   ]
  },
  {
   "cell_type": "code",
   "execution_count": 16,
   "metadata": {},
   "outputs": [],
   "source": [
    "import os\n",
    "import random\n",
    "from collections import defaultdict\n",
    "\n",
    "import numpy as np\n",
    "import pandas as pd\n",
    "import torch\n",
    "from sklearn.metrics import precision_score, recall_score, f1_score, accuracy_score, roc_auc_score\n",
    "\n",
    "from model import *\n",
    "from utils import get_gradient, gradient_inversion\n",
    "from rectorch.data import DataProcessing, DatasetManager"
   ]
  },
  {
   "cell_type": "markdown",
   "metadata": {},
   "source": [
    "# Set Random Seed"
   ]
  },
  {
   "cell_type": "code",
   "execution_count": 17,
   "metadata": {},
   "outputs": [],
   "source": [
    "def init_seed(seed, reproducibility):\n",
    "    r\"\"\" init random seed for random functions in numpy, torch, cuda and cudnn\n",
    "\n",
    "    Args:\n",
    "        seed (int): random seed\n",
    "        reproducibility (bool): Whether to require reproducibility\n",
    "    \"\"\"\n",
    "    random.seed(seed)\n",
    "    os.environ['PYTHONHASHSEED'] = str(seed)\n",
    "    np.random.seed(seed)\n",
    "    torch.manual_seed(seed)\n",
    "    torch.cuda.manual_seed(seed)\n",
    "    torch.cuda.manual_seed_all(seed)\n",
    "    if reproducibility:\n",
    "        torch.backends.cudnn.benchmark = False\n",
    "        torch.backends.cudnn.deterministic = True\n",
    "    else:\n",
    "        torch.backends.cudnn.benchmark = True\n",
    "        torch.backends.cudnn.deterministic = False"
   ]
  },
  {
   "cell_type": "code",
   "execution_count": 18,
   "metadata": {},
   "outputs": [],
   "source": [
    "init_seed(2022, True)"
   ]
  },
  {
   "cell_type": "markdown",
   "metadata": {},
   "source": [
    "# Model and Dataset Settings"
   ]
  },
  {
   "cell_type": "code",
   "execution_count": 19,
   "metadata": {},
   "outputs": [
    {
     "name": "stdout",
     "output_type": "stream",
     "text": [
      "n_users: 1877\n",
      "n_item: 16423\n",
      "n_users_train: 1677\n",
      "n_users_val: 100\n",
      "n_users_test: 100\n",
      "size_dataset: 91576\n"
     ]
    }
   ],
   "source": [
    "dataset_name = 'lastfm' # ml-1m, steam, lastfm\n",
    "NUM_USER_TO_ATTACK = 2\n",
    "POS_THRESHOLD = 0.6\n",
    "\n",
    "dproc = DataProcessing(f'./config/dataset/{dataset_name}.json')\n",
    "if not os.path.exists(dproc.cfg.proc_path):\n",
    "    dproc.process()\n",
    "dataset = DatasetManager(dproc.cfg)\n",
    "print(dataset)"
   ]
  },
  {
   "cell_type": "markdown",
   "metadata": {
    "tags": []
   },
   "source": [
    "## Attack Untrained FedVAE"
   ]
  },
  {
   "cell_type": "code",
   "execution_count": 20,
   "metadata": {},
   "outputs": [
    {
     "name": "stdout",
     "output_type": "stream",
     "text": [
      "Reconstructing User 0...\n",
      "It: 0. Rec. loss: 0.9770.\n",
      "It: 500. Rec. loss: 0.1552.\n",
      "It: 1000. Rec. loss: 0.1552.\n",
      "It: 1500. Rec. loss: 0.1550.\n",
      "It: 2000. Rec. loss: 0.1550.\n",
      "It: 2500. Rec. loss: 0.1550.\n",
      "Choosing optimal result ...\n",
      "Optimal result score: 0.1550\n",
      "Total time: 15.401290893554688.\n",
      "It: 0. Rec. loss: 0.9886.\n",
      "It: 500. Rec. loss: 0.1552.\n",
      "It: 1000. Rec. loss: 0.1552.\n",
      "It: 1500. Rec. loss: 0.1550.\n",
      "It: 2000. Rec. loss: 0.1550.\n",
      "It: 2500. Rec. loss: 0.1550.\n",
      "Choosing optimal result ...\n",
      "Optimal result score: 0.1550\n",
      "Total time: 15.419992208480835.\n",
      "Reconstructing User 1...\n",
      "It: 0. Rec. loss: 0.9740.\n",
      "It: 500. Rec. loss: 0.1491.\n",
      "It: 1000. Rec. loss: 0.1491.\n",
      "It: 1500. Rec. loss: 0.1489.\n",
      "It: 2000. Rec. loss: 0.1489.\n",
      "It: 2500. Rec. loss: 0.1489.\n",
      "Choosing optimal result ...\n",
      "Optimal result score: 0.1489\n",
      "Total time: 15.453086614608765.\n",
      "It: 0. Rec. loss: 0.9778.\n",
      "It: 500. Rec. loss: 0.1491.\n",
      "It: 1000. Rec. loss: 0.1491.\n",
      "It: 1500. Rec. loss: 0.1489.\n",
      "It: 2000. Rec. loss: 0.1489.\n",
      "It: 2500. Rec. loss: 0.1489.\n",
      "Choosing optimal result ...\n",
      "Optimal result score: 0.1489\n",
      "Total time: 15.480793237686157.\n"
     ]
    }
   ],
   "source": [
    "fed_vae = FedMultiVAE(dataset, dropout=0.)\n",
    "fed_sampler = Federated_Sampler(dataset.training_set[0], dataset.validation_set, batch_size=128)\n",
    "\n",
    "\n",
    "#build inversefed library specific config for the reconstruction attack\n",
    "config = dict(signed=True,\n",
    "            boxed=True,\n",
    "            cost_fn='sim',\n",
    "            indices='def',\n",
    "            weights='equal',\n",
    "            lr=0.01,\n",
    "            optim='adam',\n",
    "            restarts=1,\n",
    "            max_iterations=3000,\n",
    "            init='randn',\n",
    "            filter='none',\n",
    "            lr_decay=True,\n",
    "            scoring_choice='loss',\n",
    "            )\n",
    "\n",
    "input_origin = []\n",
    "reconstructed_input_base = []\n",
    "reconstructed_input_with_noise = []\n",
    "\n",
    "metric_dict_base = defaultdict(list)\n",
    "metric_dict_vb = defaultdict(list)\n",
    "\n",
    "data_tensor, _ = next(fed_sampler.__iter__())\n",
    "input_shape = (dataset.n_items,)\n",
    "\n",
    "for i, data_u in enumerate(data_tensor):\n",
    "    print(f\"Reconstructing User {i}...\")\n",
    "    data_u = data_u.view(1, -1).to(fed_vae.device)\n",
    "    gradient = get_gradient(fed_vae.network, data_u, True)\n",
    "    data_np = data_u.cpu().numpy()\n",
    "    input_origin.append(data_np[0])\n",
    "    # IGA\n",
    "    base_output_reconstruction, _, _ = gradient_inversion(gradient, fed_vae.network, input_shape, 0, 1, config)\n",
    "    data_rc_base = base_output_reconstruction.cpu().numpy().squeeze(0)\n",
    "    reconstructed_input_base.append(data_rc_base)\n",
    "    # NRA\n",
    "    vb_output_reconstruction, dp, eps = gradient_inversion(gradient, fed_vae.network, input_shape, 0, 1, config, False, 200)\n",
    "    image_rc_vb = vb_output_reconstruction.cpu().numpy().squeeze(0)\n",
    "    reconstructed_input_with_noise.append(image_rc_vb)\n",
    "    \n",
    "    if i == NUM_USER_TO_ATTACK-1:\n",
    "        break   "
   ]
  },
  {
   "cell_type": "markdown",
   "metadata": {},
   "source": [
    "## Summary of Attack Results"
   ]
  },
  {
   "cell_type": "code",
   "execution_count": 21,
   "metadata": {},
   "outputs": [],
   "source": [
    "def evaluate(y_true, y_pred, threshold=0.6):\n",
    "    y_pred_int = np.zeros_like(y_pred)\n",
    "    y_pred_int[y_pred >= threshold] = 1\n",
    "    pre = precision_score(y_true, y_pred_int)\n",
    "    recall = recall_score(y_true, y_pred_int)\n",
    "    f1 = f1_score(y_true, y_pred_int)\n",
    "    return pre, recall, f1"
   ]
  },
  {
   "cell_type": "code",
   "execution_count": 22,
   "metadata": {},
   "outputs": [
    {
     "data": {
      "text/html": [
       "<div>\n",
       "<style scoped>\n",
       "    .dataframe tbody tr th:only-of-type {\n",
       "        vertical-align: middle;\n",
       "    }\n",
       "\n",
       "    .dataframe tbody tr th {\n",
       "        vertical-align: top;\n",
       "    }\n",
       "\n",
       "    .dataframe thead th {\n",
       "        text-align: right;\n",
       "    }\n",
       "</style>\n",
       "<table border=\"1\" class=\"dataframe\">\n",
       "  <thead>\n",
       "    <tr style=\"text-align: right;\">\n",
       "      <th></th>\n",
       "      <th>Precision</th>\n",
       "      <th>Recall</th>\n",
       "      <th>F1</th>\n",
       "    </tr>\n",
       "  </thead>\n",
       "  <tbody>\n",
       "    <tr>\n",
       "      <th>IGA</th>\n",
       "      <td>1.0</td>\n",
       "      <td>1.0</td>\n",
       "      <td>1.0</td>\n",
       "    </tr>\n",
       "    <tr>\n",
       "      <th>NRA</th>\n",
       "      <td>1.0</td>\n",
       "      <td>1.0</td>\n",
       "      <td>1.0</td>\n",
       "    </tr>\n",
       "  </tbody>\n",
       "</table>\n",
       "</div>"
      ],
      "text/plain": [
       "     Precision  Recall   F1\n",
       "IGA        1.0     1.0  1.0\n",
       "NRA        1.0     1.0  1.0"
      ]
     },
     "execution_count": 22,
     "metadata": {},
     "output_type": "execute_result"
    }
   ],
   "source": [
    "res_iga = np.mean([evaluate(x_true, x_pred, POS_THRESHOLD) for x_true, x_pred in zip(input_origin, reconstructed_input_base)], axis=0)\n",
    "res_nra = np.mean([evaluate(x_true, x_pred, POS_THRESHOLD) for x_true, x_pred in zip(input_origin, reconstructed_input_with_noise)], axis=0)\n",
    "df = pd.DataFrame(data=[res_iga, res_nra], columns=['Precision', 'Recall', 'F1'], index=['IGA', 'NRA'])\n",
    "df"
   ]
  }
 ],
 "metadata": {
  "interpreter": {
   "hash": "407c1867459259876a9cdbc008a77ad9f303d3d35c42a1af3bc7eaef25defce4"
  },
  "kernelspec": {
   "display_name": "Python 3 (ipykernel)",
   "language": "python",
   "name": "python3"
  },
  "language_info": {
   "codemirror_mode": {
    "name": "ipython",
    "version": 3
   },
   "file_extension": ".py",
   "mimetype": "text/x-python",
   "name": "python",
   "nbconvert_exporter": "python",
   "pygments_lexer": "ipython3",
   "version": "3.8.8"
  }
 },
 "nbformat": 4,
 "nbformat_minor": 4
}
