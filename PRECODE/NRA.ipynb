{
 "cells": [
  {
   "cell_type": "markdown",
   "metadata": {},
   "source": [
    "# Imports"
   ]
  },
  {
   "cell_type": "code",
   "execution_count": 1,
   "metadata": {},
   "outputs": [],
   "source": [
    "import os\n",
    "import random\n",
    "from collections import defaultdict\n",
    "\n",
    "import numpy as np\n",
    "import pandas as pd\n",
    "import torch\n",
    "from skimage.metrics import mean_squared_error, peak_signal_noise_ratio, structural_similarity\n",
    "\n",
    "from src.model import *\n",
    "from src.attack import get_gradient, gradient_inversion\n",
    "from src.utils import show_reconstructions"
   ]
  },
  {
   "cell_type": "markdown",
   "metadata": {},
   "source": [
    "# Set Random Seed"
   ]
  },
  {
   "cell_type": "code",
   "execution_count": 2,
   "metadata": {},
   "outputs": [],
   "source": [
    "def init_seed(seed, reproducibility):\n",
    "    r\"\"\" init random seed for random functions in numpy, torch, cuda and cudnn\n",
    "\n",
    "    Args:\n",
    "        seed (int): random seed\n",
    "        reproducibility (bool): Whether to require reproducibility\n",
    "    \"\"\"\n",
    "    random.seed(seed)\n",
    "    os.environ['PYTHONHASHSEED'] = str(seed)\n",
    "    np.random.seed(seed)\n",
    "    torch.manual_seed(seed)\n",
    "    torch.cuda.manual_seed(seed)\n",
    "    torch.cuda.manual_seed_all(seed)\n",
    "    if reproducibility:\n",
    "        torch.backends.cudnn.benchmark = False\n",
    "        torch.backends.cudnn.deterministic = True\n",
    "    else:\n",
    "        torch.backends.cudnn.benchmark = True\n",
    "        torch.backends.cudnn.deterministic = False"
   ]
  },
  {
   "cell_type": "code",
   "execution_count": 3,
   "metadata": {},
   "outputs": [],
   "source": [
    "init_seed(2022, True)"
   ]
  },
  {
   "cell_type": "markdown",
   "metadata": {},
   "source": [
    "# Model and Dataset Settings"
   ]
  },
  {
   "cell_type": "code",
   "execution_count": 4,
   "metadata": {},
   "outputs": [],
   "source": [
    "model = 'SMLP'\n",
    "DATAPATH = './data/'\n",
    "dataset = 'CIFAR10' # CIFAR10, CIFAR100, MEDICAL_MNIST\n",
    "NUM_IMGS_TO_ATTACK = 2\n",
    "ASR_THRESHOLD = 0.6\n",
    "device = torch.device('cuda:0') if torch.cuda.is_available() else torch.device('cpu')\n",
    "\n",
    "if dataset == 'CIFAR10':\n",
    "    CIFAR10_MEAN = [0.4914672374725342, 0.4822617471218109, 0.4467701315879822]\n",
    "    CIFAR10_STD = [0.24703224003314972, 0.24348513782024384, 0.26158785820007324]\n",
    "    dm = torch.as_tensor(CIFAR10_MEAN)[:, None, None].to(device)\n",
    "    ds = torch.as_tensor(CIFAR10_STD)[:, None, None].to(device)\n",
    "    num_classes = 10\n",
    "elif dataset == 'CIFAR100':\n",
    "    CIFAR100_MEAN = [0.5070783 , 0.48655024, 0.44091797]\n",
    "    CIFAR100_STD = [0.26733464, 0.25643906, 0.2761504]\n",
    "    dm = torch.as_tensor(CIFAR100_MEAN)[:, None, None].to(device)\n",
    "    ds = torch.as_tensor(CIFAR100_STD)[:, None, None].to(device)\n",
    "    num_classes = 100\n",
    "elif dataset == 'MEDICAL_MNIST':\n",
    "    MEDICAL_MNIST_MEAN = [0.35834864]\n",
    "    MEDICAL_MNIST_STD = [0.2821981]\n",
    "    dm = torch.as_tensor(MEDICAL_MNIST_MEAN)[:, None, None].to(device)\n",
    "    ds = torch.as_tensor(MEDICAL_MNIST_STD)[:, None, None].to(device)\n",
    "    num_classes = 6"
   ]
  },
  {
   "cell_type": "markdown",
   "metadata": {},
   "source": [
    "# Test Privacy of Untrained Models"
   ]
  },
  {
   "cell_type": "markdown",
   "metadata": {},
   "source": [
    "## Load Victim Data\n",
    "Victim data consists of the 128 randomly sampled images and labels from the training dataset that are attacked in the paper."
   ]
  },
  {
   "cell_type": "code",
   "execution_count": 5,
   "metadata": {},
   "outputs": [],
   "source": [
    "if dataset == 'CIFAR10':\n",
    "    data = torch.load('data/128CIF_RECDATA.dict')['images'].to(device)\n",
    "    labels = torch.load('data/128CIF_RECDATA.dict')['labels'].to(device)\n",
    "    hideen = 768\n",
    "elif dataset == 'CIFAR100':\n",
    "    data = torch.load('data/128CIF100_RECDATA.dict')['images'].to(device)\n",
    "    labels = torch.load('data/128CIF100_RECDATA.dict')['labels'].to(device)\n",
    "    hideen = 768\n",
    "elif dataset == 'MEDICAL_MNIST':\n",
    "    data = torch.load('data/128MED-MNI_RECDATA.dict')['images'].to(device)\n",
    "    labels = torch.load('data/128MED-MNI_RECDATA.dict')['labels'].to(device)\n",
    "    hideen = 3072\n",
    "\n",
    "data_shape = data.shape[1:]"
   ]
  },
  {
   "cell_type": "markdown",
   "metadata": {
    "tags": []
   },
   "source": [
    "## Attack Untrained Models using IGA or NRA"
   ]
  },
  {
   "cell_type": "code",
   "execution_count": 6,
   "metadata": {},
   "outputs": [],
   "source": [
    "def record_metric(img, img_rc, metric_dict, threshold=0.6):\n",
    "    mse = mean_squared_error(img, img_rc)\n",
    "    psnr = peak_signal_noise_ratio(img, img_rc, data_range=np.max(img))\n",
    "    ssim = structural_similarity(img, img_rc, channel_axis=0)\n",
    "    \n",
    "    metric_dict['MSE'].append(max(0, mse))\n",
    "    metric_dict['PSNR'].append(max(0, psnr))\n",
    "    metric_dict['SSIM'].append(max(0, ssim))\n",
    "    metric_dict['ASR'].append(1 if ssim >= threshold else 0)"
   ]
  },
  {
   "cell_type": "code",
   "execution_count": 7,
   "metadata": {},
   "outputs": [
    {
     "name": "stdout",
     "output_type": "stream",
     "text": [
      "It: 0. Rec. loss: 0.8475.\n",
      "It: 500. Rec. loss: 0.0068.\n",
      "It: 1000. Rec. loss: 0.0075.\n",
      "It: 1500. Rec. loss: 0.0060.\n",
      "It: 2000. Rec. loss: 0.0121.\n",
      "It: 2500. Rec. loss: 0.0108.\n",
      "It: 3000. Rec. loss: 0.0088.\n",
      "It: 3500. Rec. loss: 0.0088.\n",
      "It: 4000. Rec. loss: 0.0089.\n",
      "It: 4500. Rec. loss: 0.0082.\n",
      "It: 5000. Rec. loss: 0.0090.\n",
      "It: 5500. Rec. loss: 0.0082.\n",
      "It: 6000. Rec. loss: 0.0090.\n",
      "It: 6500. Rec. loss: 0.0088.\n",
      "Choosing optimal result ...\n",
      "Optimal result score: 0.0090\n",
      "Total time: 24.422810077667236.\n",
      "It: 0. Rec. loss: 0.9757.\n",
      "It: 500. Rec. loss: 0.5627.\n",
      "It: 1000. Rec. loss: 0.5906.\n",
      "It: 1500. Rec. loss: 0.5716.\n",
      "It: 2000. Rec. loss: 0.6308.\n",
      "It: 2500. Rec. loss: 0.5854.\n",
      "It: 3000. Rec. loss: 0.5637.\n",
      "It: 3500. Rec. loss: 0.6042.\n",
      "It: 4000. Rec. loss: 0.5733.\n",
      "It: 4500. Rec. loss: 0.5754.\n",
      "It: 5000. Rec. loss: 0.5362.\n",
      "It: 5500. Rec. loss: 0.5383.\n",
      "It: 6000. Rec. loss: 0.5676.\n",
      "It: 6500. Rec. loss: 0.5743.\n",
      "Choosing optimal result ...\n",
      "Optimal result score: 0.6481\n",
      "Total time: 37.14022707939148.\n",
      "It: 0. Rec. loss: 1.0878.\n",
      "It: 500. Rec. loss: 0.0059.\n",
      "It: 1000. Rec. loss: 0.0008.\n",
      "It: 1500. Rec. loss: 0.0004.\n",
      "It: 2000. Rec. loss: 0.0002.\n",
      "It: 2500. Rec. loss: 0.0001.\n",
      "It: 3000. Rec. loss: 0.0001.\n",
      "It: 3500. Rec. loss: 0.0001.\n",
      "It: 4000. Rec. loss: 0.0001.\n",
      "It: 4500. Rec. loss: 0.0001.\n",
      "It: 5000. Rec. loss: 0.0001.\n",
      "It: 5500. Rec. loss: 0.0001.\n",
      "It: 6000. Rec. loss: 0.0001.\n",
      "It: 6500. Rec. loss: 0.0001.\n",
      "Choosing optimal result ...\n",
      "Optimal result score: 0.0001\n",
      "Total time: 37.41465735435486.\n",
      "Image   0: SSIM IGA&Base 0.99969 | SSIM IGA&PRECODE 0.00000 | SSIM NRA&PRECODE 0.99995\n"
     ]
    },
    {
     "data": {
      "image/png": "[encoded data removed]",
      "text/plain": [
       "<Figure size 1500x750 with 4 Axes>"
      ]
     },
     "metadata": {},
     "output_type": "display_data"
    },
    {
     "name": "stdout",
     "output_type": "stream",
     "text": [
      "It: 0. Rec. loss: 0.8455.\n",
      "It: 500. Rec. loss: 0.0048.\n",
      "It: 1000. Rec. loss: 0.0021.\n",
      "It: 1500. Rec. loss: 0.0031.\n",
      "It: 2000. Rec. loss: 0.0032.\n",
      "It: 2500. Rec. loss: 0.0004.\n",
      "It: 3000. Rec. loss: 0.0004.\n",
      "It: 3500. Rec. loss: 0.0000.\n",
      "It: 4000. Rec. loss: 0.0000.\n",
      "It: 4500. Rec. loss: 0.0000.\n",
      "It: 5000. Rec. loss: 0.0000.\n",
      "It: 5500. Rec. loss: 0.0000.\n",
      "It: 6000. Rec. loss: 0.0000.\n",
      "It: 6500. Rec. loss: 0.0000.\n",
      "Choosing optimal result ...\n",
      "Optimal result score: 0.0000\n",
      "Total time: 24.411226987838745.\n",
      "It: 0. Rec. loss: 0.8938.\n",
      "It: 500. Rec. loss: 0.6028.\n",
      "It: 1000. Rec. loss: 0.5711.\n",
      "It: 1500. Rec. loss: 0.5605.\n",
      "It: 2000. Rec. loss: 0.5937.\n",
      "It: 2500. Rec. loss: 0.5311.\n",
      "It: 3000. Rec. loss: 0.6039.\n",
      "It: 3500. Rec. loss: 0.4665.\n",
      "It: 4000. Rec. loss: 0.5513.\n",
      "It: 4500. Rec. loss: 0.5730.\n",
      "It: 5000. Rec. loss: 0.5138.\n",
      "It: 5500. Rec. loss: 0.5939.\n",
      "It: 6000. Rec. loss: 0.5679.\n",
      "It: 6500. Rec. loss: 0.6329.\n",
      "Choosing optimal result ...\n",
      "Optimal result score: 0.5241\n",
      "Total time: 36.842395305633545.\n",
      "It: 0. Rec. loss: 1.0215.\n",
      "It: 500. Rec. loss: 0.0083.\n",
      "It: 1000. Rec. loss: 0.0012.\n",
      "It: 1500. Rec. loss: 0.0005.\n",
      "It: 2000. Rec. loss: 0.0005.\n",
      "It: 2500. Rec. loss: 0.0001.\n",
      "It: 3000. Rec. loss: 0.0000.\n",
      "It: 3500. Rec. loss: 0.0001.\n",
      "It: 4000. Rec. loss: 0.0000.\n",
      "It: 4500. Rec. loss: 0.0000.\n",
      "It: 5000. Rec. loss: 0.0000.\n",
      "It: 5500. Rec. loss: 0.0000.\n",
      "It: 6000. Rec. loss: 0.0000.\n",
      "It: 6500. Rec. loss: 0.0000.\n",
      "Choosing optimal result ...\n",
      "Optimal result score: 0.0000\n",
      "Total time: 37.31615900993347.\n",
      "Image   1: SSIM IGA&Base 1.00000 | SSIM IGA&PRECODE 0.00000 | SSIM NRA&PRECODE 0.99991\n"
     ]
    },
    {
     "data": {
      "image/png": "[encoded data removed]",
      "text/plain": [
       "<Figure size 1500x750 with 4 Axes>"
      ]
     },
     "metadata": {},
     "output_type": "display_data"
    }
   ],
   "source": [
    "if model.startswith('LeNet'):\n",
    "    if model == 'LeNet':\n",
    "        model_base = LeNet\n",
    "        model_vb = VBLeNet\n",
    "    else:\n",
    "        model_base = LeNetR\n",
    "        model_vb = VBLeNetR\n",
    "    base = model_base(num_classes=num_classes, hideen=hideen, channel=data_shape[0]).to(device)\n",
    "    vb = model_vb(num_classes=num_classes, hideen=hideen, channel=data_shape[0]).to(device)\n",
    "else:\n",
    "    if model == 'SMLP':\n",
    "        model_base = SMLP\n",
    "        model_vb = VBSMLP\n",
    "    elif model == 'DMLP':\n",
    "        model_base = DMLP\n",
    "        model_vb = VBDMLP\n",
    "    base = model_base(num_classes=num_classes, data_shape=data_shape).to(device)\n",
    "    vb = model_vb(num_classes=num_classes, data_shape=data_shape).to(device)\n",
    "\n",
    "base.eval()\n",
    "vb.eval()\n",
    "\n",
    "#build inversefed library specific config for the reconstruction attack\n",
    "config = dict(signed=True,\n",
    "            boxed=True,\n",
    "            cost_fn='sim',\n",
    "            indices='def',\n",
    "            weights='equal',\n",
    "            lr=0.01,\n",
    "            optim='adam',\n",
    "            restarts=1,\n",
    "            max_iterations=7000,\n",
    "            total_variation=1e-6,\n",
    "            init='randn',\n",
    "            filter='none',\n",
    "            lr_decay=True,\n",
    "            scoring_choice='loss',\n",
    "            )\n",
    "\n",
    "reconstructed_images_base = []\n",
    "reconstructed_images_vb = []\n",
    "reconstructed_images_nra = []\n",
    "\n",
    "metric_dict_base = defaultdict(list)\n",
    "metric_dict_vb= defaultdict(list)\n",
    "metric_dict_nra = defaultdict(list)\n",
    "mse_eps_list = []\n",
    "\n",
    "for i, (image, label) in enumerate(zip(data, labels)):\n",
    "    label = label.unsqueeze(0)\n",
    "    base_gradient = get_gradient(base, image.unsqueeze(0), label, False, True)\n",
    "    vb_gradient = get_gradient(vb, image.unsqueeze(0), label, True, True)\n",
    "    image_np = image.cpu().numpy()\n",
    "    # IGA & Base\n",
    "    base_output_reconstruction = gradient_inversion(base_gradient, label, base, data_shape, dm, ds, config).squeeze(0)\n",
    "    reconstructed_images_base.append(base_output_reconstruction)\n",
    "    image_rc_base = base_output_reconstruction.cpu().numpy()\n",
    "    record_metric(image_np, image_rc_base, metric_dict_base, ASR_THRESHOLD)\n",
    "    # IGA & PRECODE\n",
    "    vb_output_reconstruction = gradient_inversion(vb_gradient, label, vb, data_shape, dm, ds, config).squeeze(0)\n",
    "    reconstructed_images_vb.append(vb_output_reconstruction)\n",
    "    image_rc_vb = vb_output_reconstruction.cpu().numpy()\n",
    "    record_metric(image_np, image_rc_vb, metric_dict_vb, ASR_THRESHOLD)\n",
    "    # NRA & PRECODE\n",
    "    nra_output_reconstruction, eps = gradient_inversion(vb_gradient, label, vb, data_shape, dm, ds, config, K=256)\n",
    "    nra_output_reconstruction = nra_output_reconstruction.squeeze(0)\n",
    "    reconstructed_images_nra.append(nra_output_reconstruction)\n",
    "    image_rc_nra = nra_output_reconstruction.cpu().numpy()\n",
    "    record_metric(image_np, image_rc_nra, metric_dict_nra, ASR_THRESHOLD)\n",
    "    mse_eps_list.append(mean_squared_error(vb.VB.eps_first.cpu().numpy(), eps.cpu().numpy()))\n",
    "    vb.VB.eps_first = None\n",
    "    print(f\"Image {i:3}: SSIM IGA&Base {metric_dict_base['SSIM'][-1]:.5f} | SSIM IGA&PRECODE {metric_dict_vb['SSIM'][-1]:.5f} | SSIM NRA&PRECODE {metric_dict_nra['SSIM'][-1]:.5f}\")\n",
    "    show_reconstructions([image, base_output_reconstruction, vb_output_reconstruction, nra_output_reconstruction], dm, ds)\n",
    "    \n",
    "    if i == NUM_IMGS_TO_ATTACK-1:\n",
    "        break   "
   ]
  },
  {
   "cell_type": "markdown",
   "metadata": {},
   "source": [
    "## Summary of Attack Results"
   ]
  },
  {
   "cell_type": "code",
   "execution_count": 8,
   "metadata": {},
   "outputs": [],
   "source": [
    "def get_result(metric_dict, name):\n",
    "    return pd.DataFrame(dict([(m, np.mean(v)) for m, v in metric_dict.items()]), index=[name])"
   ]
  },
  {
   "cell_type": "code",
   "execution_count": 9,
   "metadata": {},
   "outputs": [
    {
     "data": {
      "text/html": [
       "<div>\n",
       "<style scoped>\n",
       "    .dataframe tbody tr th:only-of-type {\n",
       "        vertical-align: middle;\n",
       "    }\n",
       "\n",
       "    .dataframe tbody tr th {\n",
       "        vertical-align: top;\n",
       "    }\n",
       "\n",
       "    .dataframe thead th {\n",
       "        text-align: right;\n",
       "    }\n",
       "</style>\n",
       "<table border=\"1\" class=\"dataframe\">\n",
       "  <thead>\n",
       "    <tr style=\"text-align: right;\">\n",
       "      <th></th>\n",
       "      <th>MSE</th>\n",
       "      <th>PSNR</th>\n",
       "      <th>SSIM</th>\n",
       "      <th>ASR</th>\n",
       "    </tr>\n",
       "  </thead>\n",
       "  <tbody>\n",
       "    <tr>\n",
       "      <th>IGA&amp;Base</th>\n",
       "      <td>0.000037</td>\n",
       "      <td>60.429677</td>\n",
       "      <td>0.999843</td>\n",
       "      <td>1.0</td>\n",
       "    </tr>\n",
       "    <tr>\n",
       "      <th>IGA&amp;PRECODE</th>\n",
       "      <td>3.740131</td>\n",
       "      <td>0.055654</td>\n",
       "      <td>0.000000</td>\n",
       "      <td>0.0</td>\n",
       "    </tr>\n",
       "    <tr>\n",
       "      <th>NRA&amp;PRECODE</th>\n",
       "      <td>0.000032</td>\n",
       "      <td>51.251587</td>\n",
       "      <td>0.999929</td>\n",
       "      <td>1.0</td>\n",
       "    </tr>\n",
       "  </tbody>\n",
       "</table>\n",
       "</div>"
      ],
      "text/plain": [
       "                  MSE       PSNR      SSIM  ASR\n",
       "IGA&Base     0.000037  60.429677  0.999843  1.0\n",
       "IGA&PRECODE  3.740131   0.055654  0.000000  0.0\n",
       "NRA&PRECODE  0.000032  51.251587  0.999929  1.0"
      ]
     },
     "execution_count": 9,
     "metadata": {},
     "output_type": "execute_result"
    }
   ],
   "source": [
    "pd.concat([get_result(metric_dict_base, \"IGA&Base\"), get_result(metric_dict_vb, \"IGA&PRECODE\"), get_result(metric_dict_nra, \"NRA&PRECODE\")])"
   ]
  },
  {
   "cell_type": "code",
   "execution_count": 10,
   "metadata": {},
   "outputs": [
    {
     "name": "stdout",
     "output_type": "stream",
     "text": [
      "Mean mse-ε for reconstructions NRA&PRECODE: 8.195249802962662e-05\n"
     ]
    }
   ],
   "source": [
    "print(f\"Mean mse-ε for reconstructions NRA&PRECODE: {np.mean(mse_eps_list)}\")"
   ]
  }
 ],
 "metadata": {
  "interpreter": {
   "hash": "407c1867459259876a9cdbc008a77ad9f303d3d35c42a1af3bc7eaef25defce4"
  },
  "kernelspec": {
   "display_name": "Python 3 (ipykernel)",
   "language": "python",
   "name": "python3"
  },
  "language_info": {
   "codemirror_mode": {
    "name": "ipython",
    "version": 3
   },
   "file_extension": ".py",
   "mimetype": "text/x-python",
   "name": "python",
   "nbconvert_exporter": "python",
   "pygments_lexer": "ipython3",
   "version": "3.8.8"
  }
 },
 "nbformat": 4,
 "nbformat_minor": 4
}
